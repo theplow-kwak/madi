{
  "nbformat": 4,
  "nbformat_minor": 0,
  "metadata": {
    "colab": {
      "name": "madi.ipynb",
      "provenance": [],
      "authorship_tag": "ABX9TyPqhEs1w6T5IUqVVC8nzaj5",
      "include_colab_link": true
    },
    "kernelspec": {
      "name": "python3",
      "display_name": "Python 3"
    }
  },
  "cells": [
    {
      "cell_type": "markdown",
      "metadata": {
        "id": "view-in-github",
        "colab_type": "text"
      },
      "source": [
        "<a href=\"https://colab.research.google.com/github/theplow-kwak/madi/blob/main/madi.ipynb\" target=\"_parent\"><img src=\"https://colab.research.google.com/assets/colab-badge.svg\" alt=\"Open In Colab\"/></a>"
      ]
    },
    {
      "cell_type": "code",
      "metadata": {
        "id": "kzN7fFFA4CQP"
      },
      "source": [
        "#ddd"
      ],
      "execution_count": null,
      "outputs": []
    }
  ]
}